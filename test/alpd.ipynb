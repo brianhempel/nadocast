{
 "cells": [
  {
   "cell_type": "code",
   "execution_count": 2,
   "id": "122afb95",
   "metadata": {},
   "outputs": [],
   "source": [
    "import math\n",
    "import numpy as np\n",
    "import pandas as pd\n",
    "import matplotlib\n",
    "import matplotlib.pyplot as plt\n"
   ]
  },
  {
   "cell_type": "code",
   "execution_count": 3,
   "id": "4ff43e79",
   "metadata": {},
   "outputs": [
    {
     "data": {
      "text/html": [
       "<div><div id=bed7d7c4-57b5-4cb3-a086-af0eeaf508a0 style=\"display:none; background-color:#9D6CFF; color:white; width:200px; height:30px; padding-left:5px; border-radius:4px; flex-direction:row; justify-content:space-around; align-items:center;\" onmouseover=\"this.style.backgroundColor='#BA9BF8'\" onmouseout=\"this.style.backgroundColor='#9D6CFF'\" onclick=\"window.commands?.execute('create-mitosheet-from-dataframe-output');\">See Full Dataframe in Mito</div> <script> if (window.commands?.hasCommand('create-mitosheet-from-dataframe-output')) document.getElementById('bed7d7c4-57b5-4cb3-a086-af0eeaf508a0').style.display = 'flex' </script> <table border=\"1\" class=\"dataframe\">\n",
       "  <thead>\n",
       "    <tr style=\"text-align: right;\">\n",
       "      <th></th>\n",
       "      <th>event</th>\n",
       "      <th>days_count</th>\n",
       "      <th>threshold</th>\n",
       "      <th>spc_threshold_days</th>\n",
       "      <th>nadocast_threshold_days</th>\n",
       "      <th>spc_success_ratio</th>\n",
       "      <th>spc_pod</th>\n",
       "      <th>spc_false_positive_rate</th>\n",
       "      <th>nadocast_success_ratio</th>\n",
       "      <th>nadocast_pod</th>\n",
       "      <th>...</th>\n",
       "      <th>spc_pod_0.975_bootstrap</th>\n",
       "      <th>spc_csi_0.025_bootstrap</th>\n",
       "      <th>spc_csi_0.975_bootstrap</th>\n",
       "      <th>nadocast_success_ratio_0.025_bootstrap</th>\n",
       "      <th>nadocast_success_ratio_0.975_bootstrap</th>\n",
       "      <th>nadocast_pod_0.025_bootstrap</th>\n",
       "      <th>nadocast_pod_0.975_bootstrap</th>\n",
       "      <th>nadocast_csi_0.025_bootstrap</th>\n",
       "      <th>nadocast_csi_0.975_bootstrap</th>\n",
       "      <th>p_value_nadocast_csi_better</th>\n",
       "    </tr>\n",
       "  </thead>\n",
       "  <tbody>\n",
       "    <tr>\n",
       "      <th>0</th>\n",
       "      <td>tornado</td>\n",
       "      <td>155</td>\n",
       "      <td>0.01</td>\n",
       "      <td>79</td>\n",
       "      <td>115</td>\n",
       "      <td>0.059523</td>\n",
       "      <td>0.698779</td>\n",
       "      <td>0.025721</td>\n",
       "      <td>0.053505</td>\n",
       "      <td>0.869162</td>\n",
       "      <td>...</td>\n",
       "      <td>0.800514</td>\n",
       "      <td>0.038655</td>\n",
       "      <td>0.078670</td>\n",
       "      <td>0.038525</td>\n",
       "      <td>0.069963</td>\n",
       "      <td>0.795803</td>\n",
       "      <td>0.918322</td>\n",
       "      <td>0.038166</td>\n",
       "      <td>0.069417</td>\n",
       "      <td>0.923028</td>\n",
       "    </tr>\n",
       "    <tr>\n",
       "      <th>1</th>\n",
       "      <td>tornado</td>\n",
       "      <td>155</td>\n",
       "      <td>0.02</td>\n",
       "      <td>79</td>\n",
       "      <td>95</td>\n",
       "      <td>0.059523</td>\n",
       "      <td>0.698779</td>\n",
       "      <td>0.025721</td>\n",
       "      <td>0.078714</td>\n",
       "      <td>0.778767</td>\n",
       "      <td>...</td>\n",
       "      <td>0.800489</td>\n",
       "      <td>0.038641</td>\n",
       "      <td>0.078710</td>\n",
       "      <td>0.056571</td>\n",
       "      <td>0.101627</td>\n",
       "      <td>0.674510</td>\n",
       "      <td>0.852150</td>\n",
       "      <td>0.055178</td>\n",
       "      <td>0.099669</td>\n",
       "      <td>0.000000</td>\n",
       "    </tr>\n",
       "    <tr>\n",
       "      <th>2</th>\n",
       "      <td>tornado</td>\n",
       "      <td>155</td>\n",
       "      <td>0.05</td>\n",
       "      <td>34</td>\n",
       "      <td>51</td>\n",
       "      <td>0.139708</td>\n",
       "      <td>0.412009</td>\n",
       "      <td>0.005910</td>\n",
       "      <td>0.184460</td>\n",
       "      <td>0.510947</td>\n",
       "      <td>...</td>\n",
       "      <td>0.568049</td>\n",
       "      <td>0.068865</td>\n",
       "      <td>0.157571</td>\n",
       "      <td>0.131549</td>\n",
       "      <td>0.230780</td>\n",
       "      <td>0.335539</td>\n",
       "      <td>0.648080</td>\n",
       "      <td>0.105990</td>\n",
       "      <td>0.201115</td>\n",
       "      <td>0.000069</td>\n",
       "    </tr>\n",
       "    <tr>\n",
       "      <th>3</th>\n",
       "      <td>tornado</td>\n",
       "      <td>155</td>\n",
       "      <td>0.10</td>\n",
       "      <td>9</td>\n",
       "      <td>17</td>\n",
       "      <td>0.262528</td>\n",
       "      <td>0.173505</td>\n",
       "      <td>0.001135</td>\n",
       "      <td>0.346902</td>\n",
       "      <td>0.225244</td>\n",
       "      <td>...</td>\n",
       "      <td>0.289610</td>\n",
       "      <td>0.039951</td>\n",
       "      <td>0.167735</td>\n",
       "      <td>0.196908</td>\n",
       "      <td>0.458138</td>\n",
       "      <td>0.072275</td>\n",
       "      <td>0.361922</td>\n",
       "      <td>0.057580</td>\n",
       "      <td>0.237541</td>\n",
       "      <td>0.063598</td>\n",
       "    </tr>\n",
       "    <tr>\n",
       "      <th>4</th>\n",
       "      <td>tornado</td>\n",
       "      <td>155</td>\n",
       "      <td>0.15</td>\n",
       "      <td>3</td>\n",
       "      <td>8</td>\n",
       "      <td>0.365153</td>\n",
       "      <td>0.089459</td>\n",
       "      <td>0.000362</td>\n",
       "      <td>0.286627</td>\n",
       "      <td>0.026679</td>\n",
       "      <td>...</td>\n",
       "      <td>0.183350</td>\n",
       "      <td>0.000000</td>\n",
       "      <td>0.143967</td>\n",
       "      <td>0.118634</td>\n",
       "      <td>0.513235</td>\n",
       "      <td>0.001448</td>\n",
       "      <td>0.052485</td>\n",
       "      <td>0.001436</td>\n",
       "      <td>0.047604</td>\n",
       "      <td>0.949514</td>\n",
       "    </tr>\n",
       "    <tr>\n",
       "      <th>5</th>\n",
       "      <td>tornado</td>\n",
       "      <td>155</td>\n",
       "      <td>0.30</td>\n",
       "      <td>0</td>\n",
       "      <td>1</td>\n",
       "      <td>NaN</td>\n",
       "      <td>0.000000</td>\n",
       "      <td>0.000000</td>\n",
       "      <td>0.000000</td>\n",
       "      <td>0.000000</td>\n",
       "      <td>...</td>\n",
       "      <td>0.000000</td>\n",
       "      <td>0.000000</td>\n",
       "      <td>0.000000</td>\n",
       "      <td>0.000000</td>\n",
       "      <td>0.000000</td>\n",
       "      <td>0.000000</td>\n",
       "      <td>0.000000</td>\n",
       "      <td>0.000000</td>\n",
       "      <td>0.000000</td>\n",
       "      <td>1.000000</td>\n",
       "    </tr>\n",
       "    <tr>\n",
       "      <th>6</th>\n",
       "      <td>tornado</td>\n",
       "      <td>155</td>\n",
       "      <td>0.45</td>\n",
       "      <td>0</td>\n",
       "      <td>0</td>\n",
       "      <td>NaN</td>\n",
       "      <td>0.000000</td>\n",
       "      <td>0.000000</td>\n",
       "      <td>NaN</td>\n",
       "      <td>0.000000</td>\n",
       "      <td>...</td>\n",
       "      <td>0.000000</td>\n",
       "      <td>0.000000</td>\n",
       "      <td>0.000000</td>\n",
       "      <td>0.000000</td>\n",
       "      <td>0.000000</td>\n",
       "      <td>0.000000</td>\n",
       "      <td>0.000000</td>\n",
       "      <td>0.000000</td>\n",
       "      <td>0.000000</td>\n",
       "      <td>1.000000</td>\n",
       "    </tr>\n",
       "    <tr>\n",
       "      <th>7</th>\n",
       "      <td>tornado</td>\n",
       "      <td>155</td>\n",
       "      <td>0.60</td>\n",
       "      <td>0</td>\n",
       "      <td>0</td>\n",
       "      <td>NaN</td>\n",
       "      <td>0.000000</td>\n",
       "      <td>0.000000</td>\n",
       "      <td>NaN</td>\n",
       "      <td>0.000000</td>\n",
       "      <td>...</td>\n",
       "      <td>0.000000</td>\n",
       "      <td>0.000000</td>\n",
       "      <td>0.000000</td>\n",
       "      <td>0.000000</td>\n",
       "      <td>0.000000</td>\n",
       "      <td>0.000000</td>\n",
       "      <td>0.000000</td>\n",
       "      <td>0.000000</td>\n",
       "      <td>0.000000</td>\n",
       "      <td>1.000000</td>\n",
       "    </tr>\n",
       "  </tbody>\n",
       "</table></div>"
      ],
      "text/plain": [
       "     event  days_count  threshold  spc_threshold_days  \\\n",
       "0  tornado         155       0.01                  79   \n",
       "1  tornado         155       0.02                  79   \n",
       "2  tornado         155       0.05                  34   \n",
       "3  tornado         155       0.10                   9   \n",
       "4  tornado         155       0.15                   3   \n",
       "5  tornado         155       0.30                   0   \n",
       "6  tornado         155       0.45                   0   \n",
       "7  tornado         155       0.60                   0   \n",
       "\n",
       "   nadocast_threshold_days  spc_success_ratio   spc_pod  \\\n",
       "0                      115           0.059523  0.698779   \n",
       "1                       95           0.059523  0.698779   \n",
       "2                       51           0.139708  0.412009   \n",
       "3                       17           0.262528  0.173505   \n",
       "4                        8           0.365153  0.089459   \n",
       "5                        1                NaN  0.000000   \n",
       "6                        0                NaN  0.000000   \n",
       "7                        0                NaN  0.000000   \n",
       "\n",
       "   spc_false_positive_rate  nadocast_success_ratio  nadocast_pod  ...  \\\n",
       "0                 0.025721                0.053505      0.869162  ...   \n",
       "1                 0.025721                0.078714      0.778767  ...   \n",
       "2                 0.005910                0.184460      0.510947  ...   \n",
       "3                 0.001135                0.346902      0.225244  ...   \n",
       "4                 0.000362                0.286627      0.026679  ...   \n",
       "5                 0.000000                0.000000      0.000000  ...   \n",
       "6                 0.000000                     NaN      0.000000  ...   \n",
       "7                 0.000000                     NaN      0.000000  ...   \n",
       "\n",
       "   spc_pod_0.975_bootstrap  spc_csi_0.025_bootstrap  spc_csi_0.975_bootstrap  \\\n",
       "0                 0.800514                 0.038655                 0.078670   \n",
       "1                 0.800489                 0.038641                 0.078710   \n",
       "2                 0.568049                 0.068865                 0.157571   \n",
       "3                 0.289610                 0.039951                 0.167735   \n",
       "4                 0.183350                 0.000000                 0.143967   \n",
       "5                 0.000000                 0.000000                 0.000000   \n",
       "6                 0.000000                 0.000000                 0.000000   \n",
       "7                 0.000000                 0.000000                 0.000000   \n",
       "\n",
       "   nadocast_success_ratio_0.025_bootstrap  \\\n",
       "0                                0.038525   \n",
       "1                                0.056571   \n",
       "2                                0.131549   \n",
       "3                                0.196908   \n",
       "4                                0.118634   \n",
       "5                                0.000000   \n",
       "6                                0.000000   \n",
       "7                                0.000000   \n",
       "\n",
       "   nadocast_success_ratio_0.975_bootstrap  nadocast_pod_0.025_bootstrap  \\\n",
       "0                                0.069963                      0.795803   \n",
       "1                                0.101627                      0.674510   \n",
       "2                                0.230780                      0.335539   \n",
       "3                                0.458138                      0.072275   \n",
       "4                                0.513235                      0.001448   \n",
       "5                                0.000000                      0.000000   \n",
       "6                                0.000000                      0.000000   \n",
       "7                                0.000000                      0.000000   \n",
       "\n",
       "   nadocast_pod_0.975_bootstrap  nadocast_csi_0.025_bootstrap  \\\n",
       "0                      0.918322                      0.038166   \n",
       "1                      0.852150                      0.055178   \n",
       "2                      0.648080                      0.105990   \n",
       "3                      0.361922                      0.057580   \n",
       "4                      0.052485                      0.001436   \n",
       "5                      0.000000                      0.000000   \n",
       "6                      0.000000                      0.000000   \n",
       "7                      0.000000                      0.000000   \n",
       "\n",
       "   nadocast_csi_0.975_bootstrap  p_value_nadocast_csi_better  \n",
       "0                      0.069417                     0.923028  \n",
       "1                      0.099669                     0.000000  \n",
       "2                      0.201115                     0.000069  \n",
       "3                      0.237541                     0.063598  \n",
       "4                      0.047604                     0.949514  \n",
       "5                      0.000000                     1.000000  \n",
       "6                      0.000000                     1.000000  \n",
       "7                      0.000000                     1.000000  \n",
       "\n",
       "[8 rows x 24 columns]"
      ]
     },
     "execution_count": 3,
     "metadata": {},
     "output_type": "execute_result"
    }
   ],
   "source": [
    "full_df = pd.read_csv('stats_0z.csv')\n",
    "\n",
    "event = \"tornado\"\n",
    "df = full_df[full_df[\"event\"] == event].copy()\n",
    "df.index = range(len(df))\n",
    "df"
   ]
  },
  {
   "cell_type": "code",
   "execution_count": 4,
   "id": "eb50bf48",
   "metadata": {},
   "outputs": [
    {
     "data": {
      "image/png": "[encoded data removed]",
      "text/plain": [
       "<Figure size 640x480 with 1 Axes>"
      ]
     },
     "metadata": {},
     "output_type": "display_data"
    }
   ],
   "source": [
    "min_threshold = 0.02\n",
    "nc_or_spc = \"nadocast\"\n",
    "fig, ax = plt.subplots()\n",
    "ax.set_xlim(0,.4)\n",
    "ax.set_ylim(0,1)\n",
    "row_is = (df[f\"{nc_or_spc}_threshold_days\"] >= 2) & (df[\"threshold\"] >= min_threshold)\n",
    "xs = list(df[f\"{nc_or_spc}_success_ratio\"][row_is])\n",
    "ys = list(df[f\"{nc_or_spc}_pod\"][row_is])\n",
    "ax.scatter(xs, ys, s=200, marker=\"v\")\n",
    "plt.show()\n",
    "\n",
    "def perf_plot(csv_path, nc_or_spc, event, min_threshold):\n",
    "    full_df = pd.read_csv(csv_path)\n",
    "    df = full_df[full_df[\"event\"] == event].copy()\n",
    "    df.index = range(len(df))\n",
    "    fig, ax = plt.subplots()\n",
    "    ax.set_xlim(0,.4)\n",
    "    ax.set_ylim(0,1)\n",
    "    row_is = (df[f\"{nc_or_spc}_threshold_days\"] >= 2) & (df[\"threshold\"] >= min_threshold)\n",
    "    xs = list(df[f\"{nc_or_spc}_success_ratio\"][row_is])\n",
    "    ys = list(df[f\"{nc_or_spc}_pod\"][row_is])\n",
    "    ax.scatter(xs, ys, s=200, marker=\"v\")\n",
    "    plt.show()"
   ]
  },
  {
   "cell_type": "code",
   "execution_count": 5,
   "id": "46bc3737",
   "metadata": {},
   "outputs": [
    {
     "data": {
      "text/plain": [
       "[0.007646825686352321,\n",
       " 0.0688827375472485,\n",
       " 0.052700744757495,\n",
       " 0.021081221320278]"
      ]
     },
     "execution_count": 5,
     "metadata": {},
     "output_type": "execute_result"
    }
   ],
   "source": [
    "alpd = 0.0\n",
    "last_y = 0.0\n",
    "areas = []\n",
    "# work in reverse order\n",
    "for (x,y) in zip(xs[::-1],ys[::-1]):\n",
    "    rect_area = x * (y - last_y) \n",
    "    areas.append(rect_area)\n",
    "    last_y = y\n",
    "areas"
   ]
  },
  {
   "cell_type": "code",
   "execution_count": 6,
   "id": "407a85ba",
   "metadata": {},
   "outputs": [
    {
     "data": {
      "text/plain": [
       "0.15031152931137381"
      ]
     },
     "execution_count": 6,
     "metadata": {},
     "output_type": "execute_result"
    }
   ],
   "source": [
    "alpd = sum(areas)\n",
    "alpd"
   ]
  },
  {
   "cell_type": "code",
   "execution_count": 7,
   "id": "610240f7",
   "metadata": {},
   "outputs": [
    {
     "data": {
      "text/plain": [
       "0.0434"
      ]
     },
     "execution_count": 7,
     "metadata": {},
     "output_type": "execute_result"
    }
   ],
   "source": [
    "# via Sam Mason https://stackoverflow.com/a/56974893\n",
    "def sig_figs(x, ndigits):\n",
    "    if x == 0 or not math.isfinite(x):\n",
    "        return x\n",
    "    ndigits -= math.ceil(math.log10(abs(x)))\n",
    "    return round(x, ndigits)\n",
    "\n",
    "sig_figs(0.04336916143280999,3)"
   ]
  },
  {
   "cell_type": "code",
   "execution_count": 8,
   "id": "8feef73e",
   "metadata": {},
   "outputs": [],
   "source": [
    "def mean2(a, b):\n",
    "    return (a + b) / 2.0"
   ]
  },
  {
   "cell_type": "code",
   "execution_count": 9,
   "id": "046f35c0",
   "metadata": {},
   "outputs": [],
   "source": [
    "# Stairstep version\n",
    "def alpd(csv_path, nc_or_spc, event, min_threshold, max_threshold=1.0):\n",
    "    full_df = pd.read_csv(csv_path)\n",
    "\n",
    "    df = full_df[full_df[\"event\"] == event].copy()\n",
    "    df.index = range(len(df))\n",
    "    row_is = (df[f\"{nc_or_spc}_threshold_days\"] >= 2) & (df[\"threshold\"] >= min_threshold) & (df[\"threshold\"] <= max_threshold)\n",
    "    xs = list(df[f\"{nc_or_spc}_success_ratio\"][row_is])\n",
    "    xs = [0.0 if np.isnan(x) else x for x in xs]\n",
    "    ys = list(df[f\"{nc_or_spc}_pod\"][row_is])\n",
    "    last_y = 0.0\n",
    "    areas = []\n",
    "    # work in reverse order\n",
    "    for (x,y) in zip(xs[::-1],ys[::-1]):\n",
    "        rect_area = x * (y - last_y) \n",
    "        areas.append(rect_area)\n",
    "        last_y = y\n",
    "    return sum(areas)"
   ]
  },
  {
   "cell_type": "code",
   "execution_count": 9,
   "id": "7b1be6f6",
   "metadata": {},
   "outputs": [
    {
     "data": {
      "text/plain": [
       "0.3194510210605947"
      ]
     },
     "execution_count": 9,
     "metadata": {},
     "output_type": "execute_result"
    }
   ],
   "source": [
    "alpd(\"stats_0z.csv\", \"nadocast\", \"wind\", 0.02)"
   ]
  },
  {
   "cell_type": "code",
   "execution_count": null,
   "id": "3c1a509c",
   "metadata": {},
   "outputs": [],
   "source": []
  },
  {
   "cell_type": "code",
   "execution_count": 10,
   "id": "b9f3da78",
   "metadata": {
    "scrolled": true
   },
   "outputs": [
    {
     "name": "stdout",
     "output_type": "stream",
     "text": [
      "tornado,0.105,0.15,0.148,0.138,0.139,0.135,0.171,0.17,0.162,0.167,0.12,0.161,0.159,0.15,0.153\n",
      "wind,0.196,0.308,0.312,0.3,0.305,0.237,0.334,0.34,0.34,0.344,0.216,0.321,0.326,0.32,0.324\n",
      "wind_adj,0.0763,0.139,0.144,0,0,0.0928,0.167,0.166,0,0,0.0845,0.153,0.155,0.0,0.0\n",
      "hail,0.102,0.195,0.196,0.192,0.193,0.129,0.224,0.224,0.221,0.223,0.116,0.21,0.21,0.207,0.208\n"
     ]
    }
   ],
   "source": [
    "for (event, min_threshold) in [(\"tornado\", 0.02), (\"wind\", 0.05), (\"wind_adj\", 0.05), (\"hail\", 0.05)]:\n",
    "    cells                 = [event]\n",
    "    spc_0z                = alpd(\"stats_0z.csv\", \"spc\",                           event, min_threshold)\n",
    "    nc_0z                 = alpd(\"stats_0z.csv\", \"nadocast\",                      event, min_threshold)\n",
    "    nc_href_only_0z       = alpd(\"stats_0z_href_only.csv\", \"nadocast\",            event, min_threshold)\n",
    "    nc_2021_0z            = alpd(\"csvs_2021/stats_0z.csv\", \"nadocast\",            event, min_threshold)\n",
    "    nc_2021_href_only_0z  = alpd(\"csvs_2021/stats_0z_href_only.csv\", \"nadocast\",  event, min_threshold)\n",
    "    spc_12z               = alpd(\"stats_12z.csv\", \"spc\",                          event, min_threshold)\n",
    "    nc_12z                = alpd(\"stats_12z.csv\", \"nadocast\",                     event, min_threshold)\n",
    "    nc_href_only_12z      = alpd(\"stats_12z_href_only.csv\", \"nadocast\",           event, min_threshold)\n",
    "    nc_2021_12z           = alpd(\"csvs_2021/stats_12z.csv\", \"nadocast\",           event, min_threshold)\n",
    "    nc_2021_href_only_12z = alpd(\"csvs_2021/stats_12z_href_only.csv\", \"nadocast\", event, min_threshold)\n",
    "    cells.append(sig_figs(spc_0z, 3))\n",
    "    cells.append(sig_figs(nc_0z, 3))\n",
    "    cells.append(sig_figs(nc_href_only_0z, 3))\n",
    "    cells.append(sig_figs(nc_2021_0z, 3))\n",
    "    cells.append(sig_figs(nc_2021_href_only_0z, 3))\n",
    "    cells.append(sig_figs(spc_12z, 3))\n",
    "    cells.append(sig_figs(nc_12z, 3))\n",
    "    cells.append(sig_figs(nc_href_only_12z, 3))\n",
    "    cells.append(sig_figs(nc_2021_12z, 3))\n",
    "    cells.append(sig_figs(nc_2021_href_only_12z, 3))\n",
    "    cells.append(sig_figs(mean2(spc_0z, spc_12z), 3))\n",
    "    cells.append(sig_figs(mean2(nc_0z, nc_12z), 3))\n",
    "    cells.append(sig_figs(mean2(nc_href_only_0z, nc_href_only_12z), 3))\n",
    "    cells.append(sig_figs(mean2(nc_2021_0z, nc_2021_12z), 3))\n",
    "    cells.append(sig_figs(mean2(nc_2021_href_only_0z, nc_2021_href_only_12z), 3))\n",
    "    print(\",\".join(map(str, cells)))"
   ]
  },
  {
   "cell_type": "code",
   "execution_count": 11,
   "id": "db7a802e",
   "metadata": {},
   "outputs": [
    {
     "name": "stdout",
     "output_type": "stream",
     "text": [
      "sig_tornado,0.0434,0.0634,0.0656,0.0588,0.0578,0.0527,0.0809,0.0764,0.0679,0.0726,0.048,0.0722,0.071,0.0633,0.0652\n",
      "sig_wind,0.0113,0.0267,0.0239,0.0258,0.0255,0.0221,0.0416,0.0435,0.046,0.0447,0.0167,0.0342,0.0337,0.0359,0.0351\n",
      "sig_wind_adj,0.00703,0.0111,0.0115,0,0,0.0121,0.0105,0.0166,0,0,0.00958,0.0108,0.0141,0.0,0.0\n",
      "sig_hail,0.0111,0.0378,0.0428,0.0336,0.0346,0.0272,0.0493,0.0529,0.0406,0.0423,0.0191,0.0435,0.0478,0.0371,0.0385\n"
     ]
    }
   ],
   "source": [
    "for event in [\"sig_tornado\", \"sig_wind\", \"sig_wind_adj\", \"sig_hail\"]:\n",
    "    cells = [event]\n",
    "    spc_0z                = alpd(\"stats_0z.csv\", \"spc\",                           event, 0.1, 0.1)\n",
    "    nc_0z                 = alpd(\"stats_0z.csv\", \"nadocast\",                      event, 0.1, 0.1)\n",
    "    nc_href_only_0z       = alpd(\"stats_0z_href_only.csv\", \"nadocast\",            event, 0.1, 0.1)\n",
    "    nc_2021_0z            = alpd(\"csvs_2021/stats_0z.csv\", \"nadocast\",            event, 0.1, 0.1)\n",
    "    nc_2021_href_only_0z  = alpd(\"csvs_2021/stats_0z_href_only.csv\", \"nadocast\",  event, 0.1, 0.1)\n",
    "    spc_12z               = alpd(\"stats_12z.csv\", \"spc\",                          event, 0.1, 0.1)\n",
    "    nc_12z                = alpd(\"stats_12z.csv\", \"nadocast\",                     event, 0.1, 0.1)\n",
    "    nc_href_only_12z      = alpd(\"stats_12z_href_only.csv\", \"nadocast\",           event, 0.1, 0.1)\n",
    "    nc_2021_12z           = alpd(\"csvs_2021/stats_12z.csv\", \"nadocast\",           event, 0.1, 0.1)\n",
    "    nc_2021_href_only_12z = alpd(\"csvs_2021/stats_12z_href_only.csv\", \"nadocast\", event, 0.1, 0.1)\n",
    "    cells.append(sig_figs(spc_0z, 3))\n",
    "    cells.append(sig_figs(nc_0z, 3))\n",
    "    cells.append(sig_figs(nc_href_only_0z, 3))\n",
    "    cells.append(sig_figs(nc_2021_0z, 3))\n",
    "    cells.append(sig_figs(nc_2021_href_only_0z, 3))\n",
    "    cells.append(sig_figs(spc_12z, 3))\n",
    "    cells.append(sig_figs(nc_12z, 3))\n",
    "    cells.append(sig_figs(nc_href_only_12z, 3))\n",
    "    cells.append(sig_figs(nc_2021_12z, 3))\n",
    "    cells.append(sig_figs(nc_2021_href_only_12z, 3))\n",
    "    cells.append(sig_figs(mean2(spc_0z, spc_12z), 3))\n",
    "    cells.append(sig_figs(mean2(nc_0z, nc_12z), 3))\n",
    "    cells.append(sig_figs(mean2(nc_href_only_0z, nc_href_only_12z), 3))\n",
    "    cells.append(sig_figs(mean2(nc_2021_0z, nc_2021_12z), 3))\n",
    "    cells.append(sig_figs(mean2(nc_2021_href_only_0z, nc_2021_href_only_12z), 3))\n",
    "    print(\",\".join(map(str, cells)))"
   ]
  },
  {
   "cell_type": "code",
   "execution_count": 12,
   "id": "0ddb71cb",
   "metadata": {},
   "outputs": [
    {
     "name": "stdout",
     "output_type": "stream",
     "text": [
      ",0600 SPC,0Z NC,1630 SPC,12Z NC\n",
      "tornado_mean_58,0.10512085229687604,0.12177853146828498,0.1354641477693047,0.1471248316544583\n",
      "tornado_prob_80,0.10512085229687604,0.13470451243983028,0.1354641477693047,0.15841930060751858\n",
      "tornado_mean_prob_138,0.10512085229687604,0.136950628874552,0.1354641477693047,0.1721645850920504\n",
      "tornado_mean_prob_computed_no_sv_219,0.10512085229687604,0.13102019198912102,0.1354641477693047,0.17319848767371146\n",
      "tornado_mean_prob_computed_220,0.10512085229687604,0.1343288360444887,0.1354641477693047,0.172578075568509\n",
      "tornado_mean_prob_computed_partial_climatology_227,0.10512085229687604,0.138485169069659,0.1354641477693047,0.1758087305255236\n",
      "tornado_mean_prob_computed_climatology_253,0.10512085229687604,0.14936111251012682,0.1354641477693047,0.18376694522201903\n",
      "tornado_mean_prob_computed_climatology_blurs_910,0.10512085229687604,0.154066270595307,0.1354641477693047,0.1868261364541888\n",
      "tornado_mean_prob_computed_climatology_grads_1348,0.10512085229687604,0.1422005084221729,0.1354641477693047,0.18378037826297627\n",
      "tornado_mean_prob_computed_climatology_blurs_grads_2005,0.10512085229687604,0.1437981730460973,0.1354641477693047,0.18569379581329193\n",
      "tornado_mean_prob_computed_climatology_prior_next_hrs_691,0.10512085229687604,0.1463690505913505,0.1354641477693047,0.18795810889702852\n",
      "tornado_mean_prob_computed_climatology_3hr_1567,0.10512085229687604,0.1385046202788565,0.1354641477693047,0.18045885939635803\n",
      "tornado_full_13831,0.10512085229687604,0.14818752517225975,0.1354641477693047,0.170331654801621\n"
     ]
    }
   ],
   "source": [
    "print(\",\".join([\"\", \"0600 SPC\", \"0Z NC\", \"1630 SPC\", \"12Z NC\"]))\n",
    "ablation_events = [\"tornado_mean_58\", \"tornado_prob_80\", \"tornado_mean_prob_138\", \"tornado_mean_prob_computed_no_sv_219\", \"tornado_mean_prob_computed_220\", \"tornado_mean_prob_computed_partial_climatology_227\", \"tornado_mean_prob_computed_climatology_253\", \"tornado_mean_prob_computed_climatology_blurs_910\", \"tornado_mean_prob_computed_climatology_grads_1348\", \"tornado_mean_prob_computed_climatology_blurs_grads_2005\", \"tornado_mean_prob_computed_climatology_prior_next_hrs_691\", \"tornado_mean_prob_computed_climatology_3hr_1567\", \"tornado_full_13831\"]\n",
    "for event in ablation_events:\n",
    "    cells = [event]\n",
    "    cells.append(alpd(\"stats_0z_href_ablations.csv\", \"spc\", event, 0.02))\n",
    "    cells.append(alpd(\"stats_0z_href_ablations.csv\", \"nadocast\", event, 0.02))\n",
    "    cells.append(alpd(\"stats_12z_href_ablations.csv\", \"spc\", event, 0.02))\n",
    "    cells.append(alpd(\"stats_12z_href_ablations.csv\", \"nadocast\", event, 0.02))\n",
    "    print(\",\".join(map(str, cells)))\n"
   ]
  },
  {
   "cell_type": "code",
   "execution_count": 13,
   "id": "bba78d40",
   "metadata": {},
   "outputs": [
    {
     "name": "stdout",
     "output_type": "stream",
     "text": [
      ",Feature Count,0Z,12Z\n",
      "tornado_mean_58,58,0.1303996707124582,0.1538716732600313\n",
      "tornado_prob_80,80,0.13835021822828833,0.1657199043591926\n",
      "tornado_mean_prob_138,138,0.1481947276283812,0.1803547607772805\n",
      "tornado_mean_prob_computed_no_sv_219,219,0.1376053781801045,0.17617773291263714\n",
      "tornado_mean_prob_computed_220,220,0.14011941399774486,0.1775051580535952\n",
      "tornado_mean_prob_computed_partial_climatology_227,227,0.1476047227625965,0.1841853529692912\n",
      "tornado_mean_prob_computed_climatology_253,253,0.16047809852413591,0.19471398909698992\n",
      "tornado_mean_prob_computed_climatology_blurs_910,910,0.15904320085444382,0.19227482572587468\n",
      "tornado_mean_prob_computed_climatology_grads_1348,1348,0.15138965577517677,0.19139405681733934\n",
      "tornado_mean_prob_computed_climatology_blurs_grads_2005,2005,0.14903195068551944,0.19304865551050082\n",
      "tornado_mean_prob_computed_climatology_prior_next_hrs_691,691,0.1576864785994551,0.20148000961504914\n",
      "tornado_mean_prob_computed_climatology_3hr_1567,1567,0.15579727564314338,0.19253766785531973\n",
      "tornado_full_13831,13831,0.15483355525482068,0.18257510915530598\n"
     ]
    }
   ],
   "source": [
    "print(\",\".join([\"\", \"Feature Count\", \"0Z\", \"12Z\"]))\n",
    "ablation_events = [\"tornado_mean_58\", \"tornado_prob_80\", \"tornado_mean_prob_138\", \"tornado_mean_prob_computed_no_sv_219\", \"tornado_mean_prob_computed_220\", \"tornado_mean_prob_computed_partial_climatology_227\", \"tornado_mean_prob_computed_climatology_253\", \"tornado_mean_prob_computed_climatology_blurs_910\", \"tornado_mean_prob_computed_climatology_grads_1348\", \"tornado_mean_prob_computed_climatology_blurs_grads_2005\", \"tornado_mean_prob_computed_climatology_prior_next_hrs_691\", \"tornado_mean_prob_computed_climatology_3hr_1567\", \"tornado_full_13831\"]\n",
    "import re\n",
    "for event in ablation_events:\n",
    "    cells = [event, re.compile(r\"_(\\d+)$\").search(event)[1]]\n",
    "    cells.append(alpd(\"stats_0z_href_ablations_absolutely_calibrated.csv\", \"nadocast\", event, 0.02))\n",
    "    cells.append(alpd(\"stats_12z_href_ablations_absolutely_calibrated.csv\", \"nadocast\", event, 0.02))\n",
    "    print(\",\".join(map(str, cells)))\n"
   ]
  },
  {
   "cell_type": "code",
   "execution_count": 14,
   "id": "54a56495",
   "metadata": {},
   "outputs": [
    {
     "data": {
      "image/png": "[encoded data removed]",
      "text/plain": [
       "<Figure size 640x480 with 1 Axes>"
      ]
     },
     "metadata": {},
     "output_type": "display_data"
    },
    {
     "data": {
      "image/png": "[encoded data removed]",
      "text/plain": [
       "<Figure size 640x480 with 1 Axes>"
      ]
     },
     "metadata": {},
     "output_type": "display_data"
    },
    {
     "data": {
      "image/png": "[encoded data removed]",
      "text/plain": [
       "<Figure size 640x480 with 1 Axes>"
      ]
     },
     "metadata": {},
     "output_type": "display_data"
    }
   ],
   "source": [
    "perf_plot(\"stats_14z_2020_models_tornado_with_hrrr.csv\",                   \"spc\",      \"tornado\", 0.02)\n",
    "perf_plot(\"stats_14z_2020_models_tornado_with_hrrr.csv\",                   \"nadocast\", \"tornado\", 0.02)\n",
    "perf_plot(\"stats_12z_2021_models_tornado_href_sref.csv\",                   \"nadocast\", \"tornado\", 0.02)"
   ]
  },
  {
   "cell_type": "code",
   "execution_count": 15,
   "id": "7e0581d7",
   "metadata": {},
   "outputs": [
    {
     "data": {
      "image/png": "[encoded data removed]",
      "text/plain": [
       "<Figure size 640x480 with 1 Axes>"
      ]
     },
     "metadata": {},
     "output_type": "display_data"
    },
    {
     "data": {
      "image/png": "[encoded data removed]",
      "text/plain": [
       "<Figure size 640x480 with 1 Axes>"
      ]
     },
     "metadata": {},
     "output_type": "display_data"
    },
    {
     "data": {
      "image/png": "[encoded data removed]",
      "text/plain": [
       "<Figure size 640x480 with 1 Axes>"
      ]
     },
     "metadata": {},
     "output_type": "display_data"
    }
   ],
   "source": [
    "perf_plot(\"stats_14z_2020_models_tornado_with_hrrr_vs_1630_tornadoes.csv\", \"spc\",      \"tornado\", 0.02)\n",
    "perf_plot(\"stats_14z_2020_models_tornado_with_hrrr_vs_1630_tornadoes.csv\", \"nadocast\", \"tornado\", 0.02)\n",
    "perf_plot(\"stats_12z_2021_models_tornado_href_sref_vs_1630_tornadoes.csv\", \"nadocast\", \"tornado\", 0.02)"
   ]
  },
  {
   "cell_type": "code",
   "execution_count": 16,
   "id": "7ae52b34",
   "metadata": {},
   "outputs": [
    {
     "name": "stdout",
     "output_type": "stream",
     "text": [
      "event,SPC,14Z NC 2020 (w/HRRR),12Z NC 2021\n",
      "tornado vs 0600 SPC,0.0702,0.113,0.0957\n",
      "tornado vs 1630 SPC,0.109,0.114,0.0966\n"
     ]
    }
   ],
   "source": [
    "# stats_12z_2021_models_tornado_href_sref.csv\n",
    "# stats_12z_2021_models_tornado_href_sref_vs_1630_tornadoes.csv\n",
    "# stats_14z_2020_models_tornado_with_hrrr.csv\n",
    "# stats_14z_2020_models_tornado_with_hrrr_vs_1630_tornadoes.csv\n",
    "\n",
    "headers = [\n",
    "    \"event\",\n",
    "    \"SPC\",\n",
    "    \"14Z NC 2020 (w/HRRR)\",\n",
    "    \"12Z NC 2021\",\n",
    "]\n",
    "print(\",\".join(map(str, headers)))\n",
    "\n",
    "cells = [\n",
    "    \"tornado vs 0600 SPC\",\n",
    "    sig_figs(alpd(\"stats_14z_2020_models_tornado_with_hrrr.csv\",                   \"spc\",      \"tornado\", 0.02), 3),\n",
    "    sig_figs(alpd(\"stats_14z_2020_models_tornado_with_hrrr.csv\",                   \"nadocast\", \"tornado\", 0.02), 3),\n",
    "    sig_figs(alpd(\"stats_12z_2021_models_tornado_href_sref.csv\",                   \"nadocast\", \"tornado\", 0.02), 3),\n",
    "]\n",
    "print(\",\".join(map(str, cells)))\n",
    "\n",
    "cells = [\n",
    "    \"tornado vs 1630 SPC\",\n",
    "    sig_figs(alpd(\"stats_14z_2020_models_tornado_with_hrrr_vs_1630_tornadoes.csv\", \"spc\",      \"tornado\", 0.02), 3),\n",
    "    sig_figs(alpd(\"stats_14z_2020_models_tornado_with_hrrr_vs_1630_tornadoes.csv\", \"nadocast\", \"tornado\", 0.02), 3),\n",
    "    sig_figs(alpd(\"stats_12z_2021_models_tornado_href_sref_vs_1630_tornadoes.csv\", \"nadocast\", \"tornado\", 0.02), 3),\n",
    "]\n",
    "print(\",\".join(map(str, cells)))"
   ]
  },
  {
   "cell_type": "code",
   "execution_count": 17,
   "id": "0abccec2",
   "metadata": {},
   "outputs": [
    {
     "name": "stdout",
     "output_type": "stream",
     "text": [
      "tornado,0.105,0.15,0.148,0.117,0.122,0.135,0.171,0.17,0.152,0.152,0.12,0.161,0.159,0.134,0.137\n",
      "wind,0.196,0.308,0.312,0.302,0.33,0.237,0.334,0.34,0.334,0.358,0.216,0.321,0.326,0.318,0.344\n",
      "hail,0.102,0.195,0.196,0.194,0.205,0.129,0.224,0.224,0.213,0.227,0.116,0.21,0.21,0.203,0.216\n",
      "sig_tornado,0.0434,0.0634,0.0656,0.0478,0.059,0.0527,0.0809,0.0764,0.0384,0.0406,0.048,0.0722,0.071,0.0431,0.0498\n"
     ]
    }
   ],
   "source": [
    "for (event, min_threshold, max_threshold) in [(\"tornado\", 0.02, 1.0), (\"wind\", 0.05, 1.0), (\"hail\", 0.05, 1.0), (\"sig_tornado\", 0.1, 0.1)]:\n",
    "    cells                    = [event]\n",
    "    spc_0z                   = alpd(\"stats_0z.csv\", \"spc\",                                                 event, min_threshold, max_threshold)\n",
    "    nc_0z                    = alpd(\"stats_0z.csv\", \"nadocast\",                                            event, min_threshold, max_threshold)\n",
    "    nc_href_only_0z          = alpd(\"stats_0z_href_only.csv\", \"nadocast\",                                  event, min_threshold, max_threshold)\n",
    "    nc_day_exp_0z            = alpd(\"stats_0z_href_day_experiment.csv\", \"nadocast\",                        event, min_threshold, max_threshold)\n",
    "    nc_day_exp_abs_calib_0z  = alpd(\"stats_0z_href_day_experiment_absolutely_calibrated.csv\", \"nadocast\",  event, min_threshold, max_threshold)\n",
    "    spc_12z                  = alpd(\"stats_12z.csv\", \"spc\",                                                event, min_threshold, max_threshold)\n",
    "    nc_12z                   = alpd(\"stats_12z.csv\", \"nadocast\",                                           event, min_threshold, max_threshold)\n",
    "    nc_href_only_12z         = alpd(\"stats_12z_href_only.csv\", \"nadocast\",                                 event, min_threshold, max_threshold)\n",
    "    nc_day_exp_12z           = alpd(\"stats_12z_href_day_experiment.csv\", \"nadocast\",                       event, min_threshold, max_threshold)\n",
    "    nc_day_exp_abs_calib_12z = alpd(\"stats_12z_href_day_experiment_absolutely_calibrated.csv\", \"nadocast\", event, min_threshold, max_threshold)\n",
    "    cells.append(sig_figs(spc_0z, 3))\n",
    "    cells.append(sig_figs(nc_0z, 3))\n",
    "    cells.append(sig_figs(nc_href_only_0z, 3))\n",
    "    cells.append(sig_figs(nc_day_exp_0z, 3))\n",
    "    cells.append(sig_figs(nc_day_exp_abs_calib_0z, 3))\n",
    "    cells.append(sig_figs(spc_12z, 3))\n",
    "    cells.append(sig_figs(nc_12z, 3))\n",
    "    cells.append(sig_figs(nc_href_only_12z, 3))\n",
    "    cells.append(sig_figs(nc_day_exp_12z, 3))\n",
    "    cells.append(sig_figs(nc_day_exp_abs_calib_12z, 3))\n",
    "    cells.append(sig_figs(mean2(spc_0z, spc_12z), 3))\n",
    "    cells.append(sig_figs(mean2(nc_0z, nc_12z), 3))\n",
    "    cells.append(sig_figs(mean2(nc_href_only_0z, nc_href_only_12z), 3))\n",
    "    cells.append(sig_figs(mean2(nc_day_exp_0z, nc_day_exp_12z), 3))\n",
    "    cells.append(sig_figs(mean2(nc_day_exp_abs_calib_0z, nc_day_exp_abs_calib_12z), 3))\n",
    "    print(\",\".join(map(str, cells)))"
   ]
  },
  {
   "cell_type": "code",
   "execution_count": 21,
   "id": "f0d11dab",
   "metadata": {
    "scrolled": true
   },
   "outputs": [
    {
     "name": "stdout",
     "output_type": "stream",
     "text": [
      "tornado,0.105,0.148,0.155,0.154,0.159,0.141,0.151,0.148,0.155,0.135,0.17,0.183,0.187,0.192,0.17,0.174,0.17,0.183,0.12,0.159,0.169,0.17,0.176,0.156,0.162,0.159,0.169\n",
      "wind,0.196,0.312,0.342,0.304,0.336,0.294,0.322,0.313,0.342,0.237,0.34,0.372,0.333,0.36,0.324,0.348,0.34,0.372,0.216,0.326,0.357,0.319,0.348,0.309,0.335,0.326,0.357\n",
      "hail,0.102,0.196,0.211,0.197,0.209,0.189,0.204,0.196,0.211,0.129,0.224,0.236,0.219,0.232,0.212,0.221,0.224,0.236,0.116,0.21,0.224,0.208,0.221,0.2,0.212,0.21,0.224\n"
     ]
    }
   ],
   "source": [
    "for (event, min_threshold, max_threshold) in [(\"tornado\", 0.02, 1.0), (\"wind\", 0.05, 1.0), (\"hail\", 0.05, 1.0)]:\n",
    "    cells = [event]\n",
    "    spc_0z                                  = alpd(\"stats_0z.csv\",                                        \"spc\",      event,                                                               min_threshold, max_threshold)                                              \n",
    "    nc_href_only_0z                         = alpd(\"stats_0z_href_only.csv\",                              \"nadocast\", event,                                                               min_threshold, max_threshold)                                              \n",
    "    nc_href_only_abs_calib_0z               = alpd(\"stats_0z_href_only_absolutely_calibrated.csv\",        \"nadocast\", event,                                                               min_threshold, max_threshold)                                              \n",
    "    nc_best_ablated_0z                      = alpd(\"stats_0z_href_ablations2.csv\",                        \"nadocast\", event + \"_mean_prob_computed_climatology_blurs_910\",                 min_threshold, max_threshold)\n",
    "    nc_best_ablated_abs_calib_0z            = alpd(\"stats_0z_href_ablations2_absolutely_calibrated.csv\",  \"nadocast\", event + \"_mean_prob_computed_climatology_blurs_910\",                 min_threshold, max_threshold)\n",
    "    nc_best_ablated_half_data_0z            = alpd(\"stats_0z_href_ablations2.csv\",                        \"nadocast\", event + \"_mean_prob_computed_climatology_blurs_910_before_20200523\", min_threshold, max_threshold)\n",
    "    nc_best_ablated_half_data_abs_calib_0z  = alpd(\"stats_0z_href_ablations2_absolutely_calibrated.csv\",  \"nadocast\", event + \"_mean_prob_computed_climatology_blurs_910_before_20200523\", min_threshold, max_threshold)\n",
    "    nc_unablated_0z                         = alpd(\"stats_0z_href_ablations2.csv\",                        \"nadocast\", event + \"_full_13831\",                                               min_threshold, max_threshold)\n",
    "    nc_unablated_abs_calib_0z               = alpd(\"stats_0z_href_ablations2_absolutely_calibrated.csv\",  \"nadocast\", event + \"_full_13831\",                                               min_threshold, max_threshold)\n",
    "    spc_12z                                 = alpd(\"stats_12z.csv\",                                       \"spc\",      event,                                                               min_threshold, max_threshold)                                              \n",
    "    nc_href_only_12z                        = alpd(\"stats_12z_href_only.csv\",                             \"nadocast\", event,                                                               min_threshold, max_threshold)                                              \n",
    "    nc_href_only_abs_calib_12z              = alpd(\"stats_12z_href_only_absolutely_calibrated.csv\",       \"nadocast\", event,                                                               min_threshold, max_threshold)                                              \n",
    "    nc_best_ablated_12z                     = alpd(\"stats_12z_href_ablations2.csv\",                       \"nadocast\", event + \"_mean_prob_computed_climatology_blurs_910\",                 min_threshold, max_threshold)\n",
    "    nc_best_ablated_abs_calib_12z           = alpd(\"stats_12z_href_ablations2_absolutely_calibrated.csv\", \"nadocast\", event + \"_mean_prob_computed_climatology_blurs_910\",                 min_threshold, max_threshold)\n",
    "    nc_best_ablated_half_data_12z           = alpd(\"stats_12z_href_ablations2.csv\",                       \"nadocast\", event + \"_mean_prob_computed_climatology_blurs_910_before_20200523\", min_threshold, max_threshold)\n",
    "    nc_best_ablated_half_data_abs_calib_12z = alpd(\"stats_12z_href_ablations2_absolutely_calibrated.csv\", \"nadocast\", event + \"_mean_prob_computed_climatology_blurs_910_before_20200523\", min_threshold, max_threshold)\n",
    "    nc_unablated_12z                        = alpd(\"stats_12z_href_ablations2.csv\",                       \"nadocast\", event + \"_full_13831\",                                               min_threshold, max_threshold)\n",
    "    nc_unablated_abs_calib_12z              = alpd(\"stats_12z_href_ablations2_absolutely_calibrated.csv\", \"nadocast\", event + \"_full_13831\",                                               min_threshold, max_threshold)\n",
    "    cells.append(sig_figs(spc_0z, 3))\n",
    "    cells.append(sig_figs(nc_href_only_0z, 3))\n",
    "    cells.append(sig_figs(nc_href_only_abs_calib_0z, 3))\n",
    "    cells.append(sig_figs(nc_best_ablated_0z, 3))\n",
    "    cells.append(sig_figs(nc_best_ablated_abs_calib_0z, 3))\n",
    "    cells.append(sig_figs(nc_best_ablated_half_data_0z, 3))\n",
    "    cells.append(sig_figs(nc_best_ablated_half_data_abs_calib_0z, 3))\n",
    "    cells.append(sig_figs(nc_unablated_0z, 3))\n",
    "    cells.append(sig_figs(nc_unablated_abs_calib_0z, 3))\n",
    "    cells.append(sig_figs(spc_12z, 3))\n",
    "    cells.append(sig_figs(nc_href_only_12z, 3))\n",
    "    cells.append(sig_figs(nc_href_only_abs_calib_12z, 3))\n",
    "    cells.append(sig_figs(nc_best_ablated_12z, 3))\n",
    "    cells.append(sig_figs(nc_best_ablated_abs_calib_12z, 3))\n",
    "    cells.append(sig_figs(nc_best_ablated_half_data_12z, 3))\n",
    "    cells.append(sig_figs(nc_best_ablated_half_data_abs_calib_12z, 3))\n",
    "    cells.append(sig_figs(nc_unablated_12z, 3))\n",
    "    cells.append(sig_figs(nc_unablated_abs_calib_12z, 3))\n",
    "    cells.append(sig_figs(mean2(spc_0z, spc_12z), 3))\n",
    "    cells.append(sig_figs(mean2(nc_href_only_0z, nc_href_only_12z), 3))\n",
    "    cells.append(sig_figs(mean2(nc_href_only_abs_calib_0z, nc_href_only_abs_calib_12z), 3))\n",
    "    cells.append(sig_figs(mean2(nc_best_ablated_0z, nc_best_ablated_12z), 3))\n",
    "    cells.append(sig_figs(mean2(nc_best_ablated_abs_calib_0z, nc_best_ablated_abs_calib_12z), 3))\n",
    "    cells.append(sig_figs(mean2(nc_best_ablated_half_data_0z, nc_best_ablated_half_data_12z), 3))\n",
    "    cells.append(sig_figs(mean2(nc_best_ablated_half_data_abs_calib_0z, nc_best_ablated_half_data_abs_calib_12z), 3))\n",
    "    cells.append(sig_figs(mean2(nc_unablated_0z, nc_unablated_12z), 3))\n",
    "    cells.append(sig_figs(mean2(nc_unablated_abs_calib_0z, nc_unablated_abs_calib_12z), 3))\n",
    "    print(\",\".join(map(str, cells)))"
   ]
  },
  {
   "cell_type": "code",
   "execution_count": 12,
   "id": "273e897a",
   "metadata": {},
   "outputs": [
    {
     "name": "stdout",
     "output_type": "stream",
     "text": [
      "_href_only\n",
      "tornado,0.105,0.148,0.135,0.17,0.12,0.159\n",
      "wind,0.196,0.312,0.237,0.34,0.216,0.326\n",
      "hail,0.102,0.196,0.129,0.224,0.116,0.21\n",
      "sig_tornado_gated_by_tornado,0.0434,0.0744,0.0527,0.0833,0.048,0.0788\n",
      "sig_wind_gated_by_wind,0.0113,0.0239,0.0221,0.0435,0.0167,0.0337\n",
      "sig_hail_gated_by_hail,0.0111,0.0428,0.0272,0.0529,0.0191,0.0478\n",
      "_href_only_more_days\n",
      "tornado,0.0987,0.14,0.13,0.165,0.114,0.152\n",
      "wind,0.186,0.302,0.224,0.33,0.205,0.316\n",
      "hail,0.1,0.196,0.128,0.225,0.114,0.211\n",
      "sig_tornado_gated_by_tornado,0.042,0.072,0.051,0.0806,0.0465,0.0763\n",
      "sig_wind_gated_by_wind,0.0105,0.0218,0.0205,0.0394,0.0155,0.0306\n",
      "sig_hail_gated_by_hail,0.0102,0.0476,0.0317,0.0586,0.0209,0.0531\n",
      "_href_only_since_spc_implementation\n",
      "tornado,0.153,0.17,0.184,0.201,0.168,0.186\n",
      "wind,0.156,0.259,0.192,0.288,0.174,0.274\n",
      "hail,0.0919,0.147,0.105,0.166,0.0983,0.157\n",
      "sig_tornado_gated_by_tornado,0.0759,0.0795,0.0814,0.0888,0.0786,0.0841\n",
      "sig_wind_gated_by_wind,0.0388,0.0372,0.0458,0.0477,0.0423,0.0425\n",
      "sig_hail_gated_by_hail,0.0151,0.0112,0.0176,0.0172,0.0163,0.0142\n"
     ]
    }
   ],
   "source": [
    "for suffix in [\"_href_only\", \"_href_only_more_days\", \"_href_only_since_spc_implementation\"]:\n",
    "    print(suffix)\n",
    "    for (event, min_threshold) in [(\"tornado\", 0.02), (\"wind\", 0.05), (\"hail\", 0.05)]:\n",
    "        cells                 = [event]\n",
    "        spc_0z                = alpd(f\"stats_0z{suffix}.csv\",  \"spc\",      event, min_threshold)\n",
    "        nc_0z                 = alpd(f\"stats_0z{suffix}.csv\",  \"nadocast\", event, min_threshold)\n",
    "        spc_12z               = alpd(f\"stats_12z{suffix}.csv\", \"spc\",      event, min_threshold)\n",
    "        nc_12z                = alpd(f\"stats_12z{suffix}.csv\", \"nadocast\", event, min_threshold)\n",
    "        cells.append(sig_figs(spc_0z, 3))\n",
    "        cells.append(sig_figs(nc_0z, 3))\n",
    "        cells.append(sig_figs(spc_12z, 3))\n",
    "        cells.append(sig_figs(nc_12z, 3))\n",
    "        cells.append(sig_figs(mean2(spc_0z, spc_12z), 3))\n",
    "        cells.append(sig_figs(mean2(nc_0z, nc_12z), 3))\n",
    "        print(\",\".join(map(str, cells)))\n",
    "\n",
    "    for event in [\"sig_tornado_gated_by_tornado\", \"sig_wind_gated_by_wind\", \"sig_hail_gated_by_hail\"]:\n",
    "        cells = [event]\n",
    "        spc_0z                = alpd(f\"stats_0z{suffix}.csv\",  \"spc\",      event, 0.1, 0.1)\n",
    "        nc_0z                 = alpd(f\"stats_0z{suffix}.csv\",  \"nadocast\", event, 0.1, 0.1)\n",
    "        spc_12z               = alpd(f\"stats_12z{suffix}.csv\", \"spc\",      event, 0.1, 0.1)\n",
    "        nc_12z                = alpd(f\"stats_12z{suffix}.csv\", \"nadocast\", event, 0.1, 0.1)\n",
    "        cells.append(sig_figs(spc_0z, 3))\n",
    "        cells.append(sig_figs(nc_0z, 3))\n",
    "        cells.append(sig_figs(spc_12z, 3))\n",
    "        cells.append(sig_figs(nc_12z, 3))\n",
    "        cells.append(sig_figs(mean2(spc_0z, spc_12z), 3))\n",
    "        cells.append(sig_figs(mean2(nc_0z, nc_12z), 3))\n",
    "        print(\",\".join(map(str, cells)))"
   ]
  }
 ],
 "metadata": {
  "kernelspec": {
   "display_name": "Python 3 (ipykernel)",
   "language": "python",
   "name": "python3"
  },
  "language_info": {
   "codemirror_mode": {
    "name": "ipython",
    "version": 3
   },
   "file_extension": ".py",
   "mimetype": "text/x-python",
   "name": "python",
   "nbconvert_exporter": "python",
   "pygments_lexer": "ipython3",
   "version": "3.11.6"
  }
 },
 "nbformat": 4,
 "nbformat_minor": 5
}
